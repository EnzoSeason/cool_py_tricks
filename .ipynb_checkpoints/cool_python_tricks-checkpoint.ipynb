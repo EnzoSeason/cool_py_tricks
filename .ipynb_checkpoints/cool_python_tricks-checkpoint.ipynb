{
 "cells": [
  {
   "cell_type": "markdown",
   "metadata": {},
   "source": [
    "# Lambda, map, filter, reduce"
   ]
  },
  {
   "cell_type": "markdown",
   "metadata": {},
   "source": [
    "## Lambda\n",
    "\n",
    "lambda params: func(params)"
   ]
  },
  {
   "cell_type": "code",
   "execution_count": 1,
   "metadata": {
    "ExecuteTime": {
     "end_time": "2019-11-17T16:18:40.877914Z",
     "start_time": "2019-11-17T16:18:40.870097Z"
    }
   },
   "outputs": [],
   "source": [
    "def square_fn(x):\n",
    "    return x * x\n",
    "\n",
    "square_ld = lambda x: x * x\n",
    "\n",
    "for i in range(10):\n",
    "    assert square_fn(i) == square_ld(i)"
   ]
  },
  {
   "cell_type": "markdown",
   "metadata": {},
   "source": [
    "## Maps\n",
    "`map(func, iterable)` which applt the func on each elements of iterable."
   ]
  },
  {
   "cell_type": "code",
   "execution_count": 2,
   "metadata": {
    "ExecuteTime": {
     "end_time": "2019-11-17T16:20:02.309439Z",
     "start_time": "2019-11-17T16:20:02.303813Z"
    }
   },
   "outputs": [],
   "source": [
    "nums = [1/3, 333/7, 2323/2230, 40/34, 2/3]"
   ]
  },
  {
   "cell_type": "code",
   "execution_count": 6,
   "metadata": {
    "ExecuteTime": {
     "end_time": "2019-11-17T16:21:21.425447Z",
     "start_time": "2019-11-17T16:21:21.418065Z"
    }
   },
   "outputs": [
    {
     "name": "stdout",
     "output_type": "stream",
     "text": [
      "[0.1111111111111111, 2263.0408163265306, 1.0851472983570953, 1.384083044982699, 0.4444444444444444]\n"
     ]
    }
   ],
   "source": [
    "nums_square = map(lambda x: x*x, nums)\n",
    "print(list(nums_square))"
   ]
  },
  {
   "cell_type": "markdown",
   "metadata": {},
   "source": [
    "You can also use map with more than one iterable. For example, if you want to calculate the mean squared error of a simple linear function f(x) = ax + b with the true label labels, these two methods are equivalent:"
   ]
  },
  {
   "cell_type": "code",
   "execution_count": 7,
   "metadata": {
    "ExecuteTime": {
     "end_time": "2019-11-17T16:23:55.651648Z",
     "start_time": "2019-11-17T16:23:55.645202Z"
    }
   },
   "outputs": [],
   "source": [
    "a, b = 3, -0.5\n",
    "xs = [2, 3, 4, 5]\n",
    "labels = [6.4, 8.9, 10.9, 15.3]"
   ]
  },
  {
   "cell_type": "code",
   "execution_count": 20,
   "metadata": {
    "ExecuteTime": {
     "end_time": "2019-11-17T16:33:56.870770Z",
     "start_time": "2019-11-17T16:33:56.857937Z"
    }
   },
   "outputs": [
    {
     "data": {
      "text/plain": [
       "0.35089172119045514"
      ]
     },
     "execution_count": 20,
     "metadata": {},
     "output_type": "execute_result"
    }
   ],
   "source": [
    "diff = map(lambda x,y: (a*x + b - y)**2, xs, labels)\n",
    "res = sum(diff)**0.5/len(xs)\n",
    "res"
   ]
  },
  {
   "cell_type": "markdown",
   "metadata": {},
   "source": [
    "## Filter\n",
    "\n",
    "`filter(func, iterable)` which finds the elements in iterable match the func."
   ]
  },
  {
   "cell_type": "code",
   "execution_count": 22,
   "metadata": {
    "ExecuteTime": {
     "end_time": "2019-11-17T16:34:59.755852Z",
     "start_time": "2019-11-17T16:34:59.748286Z"
    }
   },
   "outputs": [
    {
     "name": "stdout",
     "output_type": "stream",
     "text": [
      "[0.8100000000000006, 0.6400000000000011]\n"
     ]
    }
   ],
   "source": [
    "diff = map(lambda x,y: (a*x + b - y)**2, xs, labels)\n",
    "bad_pred = filter(lambda x: x > 0.5, list(diff))\n",
    "print(list(bad_pred))"
   ]
  },
  {
   "cell_type": "markdown",
   "metadata": {},
   "source": [
    "**Lambda functions are meant for one time use !**"
   ]
  },
  {
   "cell_type": "code",
   "execution_count": 24,
   "metadata": {
    "ExecuteTime": {
     "end_time": "2019-11-17T16:36:11.423624Z",
     "start_time": "2019-11-17T16:36:11.416415Z"
    }
   },
   "outputs": [
    {
     "data": {
      "text/plain": [
       "[]"
      ]
     },
     "execution_count": 24,
     "metadata": {},
     "output_type": "execute_result"
    }
   ],
   "source": [
    "list(diff)"
   ]
  },
  {
   "cell_type": "markdown",
   "metadata": {},
   "source": [
    "## Reduce\n",
    "`reduce(fn, iterable, initializer)` is used when we want to iteratively apply an operator to all elements in a list"
   ]
  },
  {
   "cell_type": "code",
   "execution_count": 25,
   "metadata": {
    "ExecuteTime": {
     "end_time": "2019-11-17T16:38:19.349622Z",
     "start_time": "2019-11-17T16:38:19.341602Z"
    }
   },
   "outputs": [
    {
     "name": "stdout",
     "output_type": "stream",
     "text": [
      "12.95564683272412\n"
     ]
    }
   ],
   "source": [
    "from functools import reduce\n",
    "product = reduce(lambda x, y: x * y, nums)\n",
    "print(product)"
   ]
  },
  {
   "cell_type": "markdown",
   "metadata": {},
   "source": [
    "# List"
   ]
  },
  {
   "cell_type": "markdown",
   "metadata": {},
   "source": [
    "## Unpacking"
   ]
  },
  {
   "cell_type": "code",
   "execution_count": 26,
   "metadata": {
    "ExecuteTime": {
     "end_time": "2019-11-17T16:41:41.953845Z",
     "start_time": "2019-11-17T16:41:41.946515Z"
    }
   },
   "outputs": [
    {
     "name": "stdout",
     "output_type": "stream",
     "text": [
      "1 2 3 4\n"
     ]
    }
   ],
   "source": [
    "elems = [1, 2, 3, 4]\n",
    "a, b, c, d = elems\n",
    "print(a, b, c, d)"
   ]
  },
  {
   "cell_type": "code",
   "execution_count": 27,
   "metadata": {
    "ExecuteTime": {
     "end_time": "2019-11-17T16:41:52.193700Z",
     "start_time": "2019-11-17T16:41:52.186795Z"
    }
   },
   "outputs": [
    {
     "name": "stdout",
     "output_type": "stream",
     "text": [
      "1\n",
      "[2, 3]\n",
      "4\n"
     ]
    }
   ],
   "source": [
    "a, *new_elems, d = elems\n",
    "print(a)\n",
    "print(new_elems)\n",
    "print(d)"
   ]
  },
  {
   "cell_type": "markdown",
   "metadata": {},
   "source": [
    "## Slicing\n",
    "\n",
    "The syntax [x:y:z] means \"take every zth element of a list from index x to index y\".`[begin:end:steps]`"
   ]
  },
  {
   "cell_type": "code",
   "execution_count": 28,
   "metadata": {
    "ExecuteTime": {
     "end_time": "2019-11-17T16:42:53.324709Z",
     "start_time": "2019-11-17T16:42:53.318688Z"
    }
   },
   "outputs": [],
   "source": [
    "elems = list(range(10))"
   ]
  },
  {
   "cell_type": "code",
   "execution_count": 29,
   "metadata": {
    "ExecuteTime": {
     "end_time": "2019-11-17T16:43:09.565905Z",
     "start_time": "2019-11-17T16:43:09.559053Z"
    }
   },
   "outputs": [
    {
     "name": "stdout",
     "output_type": "stream",
     "text": [
      "[0, 1, 2, 3, 4, 5, 6, 7, 8, 9]\n",
      "[9, 8, 7, 6, 5, 4, 3, 2, 1, 0]\n"
     ]
    }
   ],
   "source": [
    "elems = list(range(10))\n",
    "print(elems)\n",
    "print(elems[::-1])"
   ]
  },
  {
   "cell_type": "code",
   "execution_count": 33,
   "metadata": {
    "ExecuteTime": {
     "end_time": "2019-11-17T16:46:48.054598Z",
     "start_time": "2019-11-17T16:46:48.046908Z"
    }
   },
   "outputs": [
    {
     "name": "stdout",
     "output_type": "stream",
     "text": [
      "[1, 3, 5, 7, 9]\n",
      "[9, 7, 5, 3, 1]\n",
      "[0, 2, 4, 6, 8]\n",
      "[8, 6, 4, 2, 0]\n"
     ]
    }
   ],
   "source": [
    "odds = elems[1::2]\n",
    "evens = elems[::2]\n",
    "\n",
    "reversed_evens = elems[-2::-2]\n",
    "reversed_odds = elems[-1::-2]\n",
    "\n",
    "print(odds)\n",
    "print(reversed_odds)\n",
    "print(evens)\n",
    "print(reversed_evens)"
   ]
  },
  {
   "cell_type": "markdown",
   "metadata": {},
   "source": [
    "## Insertion"
   ]
  },
  {
   "cell_type": "code",
   "execution_count": 35,
   "metadata": {
    "ExecuteTime": {
     "end_time": "2019-11-17T16:48:08.589247Z",
     "start_time": "2019-11-17T16:48:08.581082Z"
    }
   },
   "outputs": [
    {
     "name": "stdout",
     "output_type": "stream",
     "text": [
      "[0, 10, 2, 3, 4, 5, 6, 7, 8, 9]\n"
     ]
    }
   ],
   "source": [
    "# replace 1 by 10\n",
    "\n",
    "elems[1] = 10\n",
    "print(elems)"
   ]
  },
  {
   "cell_type": "code",
   "execution_count": 36,
   "metadata": {
    "ExecuteTime": {
     "end_time": "2019-11-17T16:49:05.724517Z",
     "start_time": "2019-11-17T16:49:05.715979Z"
    }
   },
   "outputs": [
    {
     "data": {
      "text/plain": [
       "[0, 20, 40, 2, 3, 4, 5, 6, 7, 8, 9]"
      ]
     },
     "execution_count": 36,
     "metadata": {},
     "output_type": "execute_result"
    }
   ],
   "source": [
    "# replace 10 by 20, 40\n",
    "\n",
    "elems[1:2] = [20, 40]\n",
    "elems"
   ]
  },
  {
   "cell_type": "code",
   "execution_count": 39,
   "metadata": {
    "ExecuteTime": {
     "end_time": "2019-11-17T16:50:37.046144Z",
     "start_time": "2019-11-17T16:50:37.039056Z"
    }
   },
   "outputs": [
    {
     "data": {
      "text/plain": [
       "[0, 0.2, 0.4, 1, 2, 3, 4, 5, 6, 7, 8, 9]"
      ]
     },
     "execution_count": 39,
     "metadata": {},
     "output_type": "execute_result"
    }
   ],
   "source": [
    "# insert 0,2 0,4\n",
    "elems = list(range(10))\n",
    "elems[1:1] = [0.2, 0.4]\n",
    "elems"
   ]
  },
  {
   "cell_type": "markdown",
   "metadata": {},
   "source": [
    "## Flattening"
   ]
  },
  {
   "cell_type": "code",
   "execution_count": 40,
   "metadata": {
    "ExecuteTime": {
     "end_time": "2019-11-17T16:52:18.454628Z",
     "start_time": "2019-11-17T16:52:18.446703Z"
    }
   },
   "outputs": [
    {
     "data": {
      "text/plain": [
       "[1, 2, 3, 4, 5, 6]"
      ]
     },
     "execution_count": 40,
     "metadata": {},
     "output_type": "execute_result"
    }
   ],
   "source": [
    "list_of_lists = [[1], [2, 3], [4, 5, 6]]\n",
    "sum(list_of_lists, [])"
   ]
  },
  {
   "cell_type": "code",
   "execution_count": 47,
   "metadata": {
    "ExecuteTime": {
     "end_time": "2019-11-17T16:57:47.327942Z",
     "start_time": "2019-11-17T16:57:47.316230Z"
    }
   },
   "outputs": [
    {
     "data": {
      "text/plain": [
       "[1, 2, 3, 4, 5, 6, 7, 8, 9, 10, 11, 12, 13]"
      ]
     },
     "execution_count": 47,
     "metadata": {},
     "output_type": "execute_result"
    }
   ],
   "source": [
    "nested_lists = [[1, 2], [[3, 4], [5, 6], [[7, 8], [9, 10], [[11, [12, 13]]]]]]\n",
    "flatten = lambda x: [y for l in x for y in flatten(l)] if type(x) is list else [x]\n",
    "flatten(nested_lists)"
   ]
  },
  {
   "cell_type": "markdown",
   "metadata": {},
   "source": [
    "# List vs generator\n",
    "\n",
    "Instead of using a list to store all n-grams(`list`), we can use a generator that generates the next n-gram when it's asked for(`generator`)."
   ]
  },
  {
   "cell_type": "code",
   "execution_count": 48,
   "metadata": {
    "ExecuteTime": {
     "end_time": "2019-11-17T16:59:12.965385Z",
     "start_time": "2019-11-17T16:59:12.960318Z"
    }
   },
   "outputs": [],
   "source": [
    "tokens = ['i', 'want', 'to', 'go', 'to', 'school']"
   ]
  },
  {
   "cell_type": "code",
   "execution_count": 49,
   "metadata": {
    "ExecuteTime": {
     "end_time": "2019-11-17T17:03:31.700820Z",
     "start_time": "2019-11-17T17:03:31.692590Z"
    }
   },
   "outputs": [
    {
     "name": "stdout",
     "output_type": "stream",
     "text": [
      "<generator object ngrams at 0x10b671e58>\n",
      "['i', 'want', 'to']\n",
      "['want', 'to', 'go']\n",
      "['to', 'go', 'to']\n",
      "['go', 'to', 'school']\n"
     ]
    }
   ],
   "source": [
    "def ngrams(tokens, n):\n",
    "    length = len(tokens)\n",
    "    for i in range(length - n + 1):\n",
    "        yield tokens[i:i+n]\n",
    "\n",
    "ngrams_generator = ngrams(tokens, 3)\n",
    "print(ngrams_generator)\n",
    "for ngram in ngrams_generator:\n",
    "    print(ngram)"
   ]
  },
  {
   "cell_type": "code",
   "execution_count": 50,
   "metadata": {
    "ExecuteTime": {
     "end_time": "2019-11-17T17:04:48.962828Z",
     "start_time": "2019-11-17T17:04:48.954775Z"
    }
   },
   "outputs": [
    {
     "name": "stdout",
     "output_type": "stream",
     "text": [
      "<zip object at 0x10b178788>\n",
      "('i', 'want', 'to')\n",
      "('want', 'to', 'go')\n",
      "('to', 'go', 'to')\n",
      "('go', 'to', 'school')\n"
     ]
    }
   ],
   "source": [
    "def ngrams(tokens, n):\n",
    "    length = len(tokens)\n",
    "    slices = (tokens[i:length-n+i+1] for i in range(n)) #(.) returns a generator\n",
    "    return zip(*slices)\n",
    "\n",
    "ngrams_generator = ngrams(tokens, 3)\n",
    "print(ngrams_generator) # zip objects are generators\n",
    "for ngram in ngrams_generator:\n",
    "    print(ngram)"
   ]
  },
  {
   "cell_type": "markdown",
   "metadata": {},
   "source": [
    "# Classes and magic methods"
   ]
  },
  {
   "cell_type": "code",
   "execution_count": 51,
   "metadata": {
    "ExecuteTime": {
     "end_time": "2019-11-17T17:05:40.500691Z",
     "start_time": "2019-11-17T17:05:40.492979Z"
    }
   },
   "outputs": [],
   "source": [
    "class Node:\n",
    "    \"\"\" A struct to denote the node of a binary tree.\n",
    "    It contains a value and pointers to left and right children.\n",
    "    \"\"\"\n",
    "    def __init__(self, value, left=None, right=None):\n",
    "        self.value = value\n",
    "        self.left = left\n",
    "        self.right = right"
   ]
  },
  {
   "cell_type": "code",
   "execution_count": 52,
   "metadata": {
    "ExecuteTime": {
     "end_time": "2019-11-17T17:06:01.859635Z",
     "start_time": "2019-11-17T17:06:01.853173Z"
    }
   },
   "outputs": [
    {
     "name": "stdout",
     "output_type": "stream",
     "text": [
      "<__main__.Node object at 0x10b8577f0>\n"
     ]
    }
   ],
   "source": [
    "root = Node(5)\n",
    "print(root)"
   ]
  },
  {
   "cell_type": "markdown",
   "metadata": {},
   "source": [
    "we use the magic method `__repr__`, which must return a printable object, like string."
   ]
  },
  {
   "cell_type": "code",
   "execution_count": 56,
   "metadata": {
    "ExecuteTime": {
     "end_time": "2019-11-17T17:09:34.058065Z",
     "start_time": "2019-11-17T17:09:34.051203Z"
    }
   },
   "outputs": [],
   "source": [
    "class Node:\n",
    "    \"\"\" A struct to denote the node of a binary tree.\n",
    "    It contains a value and pointers to left and right children.\n",
    "    \"\"\"\n",
    "    def __init__(self, value, left=None, right=None):\n",
    "        self.value = value\n",
    "        self.left = left\n",
    "        self.right = right\n",
    "        \n",
    "    def __repr__(self):    \n",
    "        strings = [f'value: {self.value}'] # f-Strings for python 3.6 +\n",
    "        strings.append(f'left: {self.left.value}' if self.left else 'left: None')\n",
    "        strings.append(f'right: {self.right.value}' if self.right else 'right: None')\n",
    "        return ', '.join(strings)"
   ]
  },
  {
   "cell_type": "code",
   "execution_count": 57,
   "metadata": {
    "ExecuteTime": {
     "end_time": "2019-11-17T17:09:34.738233Z",
     "start_time": "2019-11-17T17:09:34.732020Z"
    }
   },
   "outputs": [
    {
     "name": "stdout",
     "output_type": "stream",
     "text": [
      "value: 5, left: None, right: None\n"
     ]
    }
   ],
   "source": [
    "root = Node(5)\n",
    "print(root)"
   ]
  },
  {
   "cell_type": "code",
   "execution_count": 58,
   "metadata": {
    "ExecuteTime": {
     "end_time": "2019-11-17T17:09:35.306550Z",
     "start_time": "2019-11-17T17:09:35.299464Z"
    }
   },
   "outputs": [
    {
     "name": "stdout",
     "output_type": "stream",
     "text": [
      "value: 5, left: 4, right: None\n"
     ]
    }
   ],
   "source": [
    "left = Node(4)\n",
    "root = Node(5, left)\n",
    "print(root)"
   ]
  },
  {
   "cell_type": "code",
   "execution_count": 59,
   "metadata": {
    "ExecuteTime": {
     "end_time": "2019-11-17T17:11:56.100552Z",
     "start_time": "2019-11-17T17:11:56.091174Z"
    }
   },
   "outputs": [
    {
     "name": "stdout",
     "output_type": "stream",
     "text": [
      "False\n",
      "True\n",
      "False\n"
     ]
    }
   ],
   "source": [
    "class Node:\n",
    "    \"\"\" A struct to denote the node of a binary tree.\n",
    "    It contains a value and pointers to left and right children.\n",
    "    \"\"\"\n",
    "    def __init__(self, value, left=None, right=None):\n",
    "        self.value = value\n",
    "        self.left = left\n",
    "        self.right = right\n",
    "    \n",
    "    def __eq__(self, other):\n",
    "        return self.value == other.value\n",
    "    \n",
    "    def __lt__(self, other):\n",
    "        return self.value < other.value\n",
    "    \n",
    "    def __ge__(self, other):\n",
    "        return self.value >= other.value\n",
    "\n",
    "\n",
    "left = Node(4)\n",
    "root = Node(5, left)\n",
    "print(left == root)\n",
    "print(left < root)\n",
    "print(left >= root)"
   ]
  },
  {
   "cell_type": "markdown",
   "metadata": {
    "ExecuteTime": {
     "end_time": "2019-11-17T17:12:12.138553Z",
     "start_time": "2019-11-17T17:12:12.130717Z"
    }
   },
   "source": [
    "* `__len__`: to overload the len() function.\n",
    "* `__str__`: to overload the str() function.\n",
    "* `__iter__`: if you want to your objects to be iterators. This also allows you to call next() on your object."
   ]
  },
  {
   "cell_type": "markdown",
   "metadata": {},
   "source": [
    "> performance boost and memory saving `__slot__`"
   ]
  },
  {
   "cell_type": "code",
   "execution_count": 61,
   "metadata": {
    "ExecuteTime": {
     "end_time": "2019-11-17T17:20:15.483220Z",
     "start_time": "2019-11-17T17:20:15.477155Z"
    }
   },
   "outputs": [],
   "source": [
    "class Node:\n",
    "    \"\"\" A struct to denote the node of a binary tree.\n",
    "    It contains a value and pointers to left and right children.\n",
    "    \"\"\"\n",
    "    __slots__ = ('value', 'left', 'right')\n",
    "    def __init__(self, value, left=None, right=None):\n",
    "        self.value = value\n",
    "        self.left = left\n",
    "        self.right = right"
   ]
  },
  {
   "cell_type": "markdown",
   "metadata": {},
   "source": [
    "# local namespace, object's attributes\n",
    "\n",
    "The `locals()` function returns a dictionary containing the variables defined in the local namespace"
   ]
  },
  {
   "cell_type": "code",
   "execution_count": 62,
   "metadata": {
    "ExecuteTime": {
     "end_time": "2019-11-17T17:23:19.082403Z",
     "start_time": "2019-11-17T17:23:19.074343Z"
    }
   },
   "outputs": [
    {
     "name": "stdout",
     "output_type": "stream",
     "text": [
      "{'self': <__main__.Model1 object at 0x10b10de80>, 'hidden_size': 100, 'num_layers': 3, 'learning_rate': 0.0003}\n"
     ]
    }
   ],
   "source": [
    "class Model1:\n",
    "    def __init__(self, hidden_size=100, num_layers=3, learning_rate=3e-4):\n",
    "        print(locals())\n",
    "        self.hidden_size = hidden_size\n",
    "        self.num_layers = num_layers\n",
    "        self.learning_rate = learning_rate\n",
    "\n",
    "model1 = Model1()"
   ]
  },
  {
   "cell_type": "markdown",
   "metadata": {},
   "source": [
    "\n",
    "All attributes of an object are stored in its `__dict__`"
   ]
  },
  {
   "cell_type": "code",
   "execution_count": 63,
   "metadata": {
    "ExecuteTime": {
     "end_time": "2019-11-17T17:23:40.300775Z",
     "start_time": "2019-11-17T17:23:40.292957Z"
    }
   },
   "outputs": [
    {
     "data": {
      "text/plain": [
       "{'hidden_size': 100, 'num_layers': 3, 'learning_rate': 0.0003}"
      ]
     },
     "execution_count": 63,
     "metadata": {},
     "output_type": "execute_result"
    }
   ],
   "source": [
    "model1.__dict__"
   ]
  },
  {
   "cell_type": "markdown",
   "metadata": {},
   "source": [
    "two very fast ways to initialize the attributs."
   ]
  },
  {
   "cell_type": "code",
   "execution_count": 67,
   "metadata": {
    "ExecuteTime": {
     "end_time": "2019-11-17T17:27:10.166766Z",
     "start_time": "2019-11-17T17:27:10.157862Z"
    }
   },
   "outputs": [
    {
     "data": {
      "text/plain": [
       "{'hidden_size': 100, 'num_layers': 3, 'learning_rate': 0.0003}"
      ]
     },
     "execution_count": 67,
     "metadata": {},
     "output_type": "execute_result"
    }
   ],
   "source": [
    "class Model2:\n",
    "    def __init__(self, hidden_size=100, num_layers=3, learning_rate=3e-4):\n",
    "        params = locals()\n",
    "        del params['self']\n",
    "        self.__dict__ = params\n",
    "\n",
    "model2 = Model2()\n",
    "model2.__dict__"
   ]
  },
  {
   "cell_type": "code",
   "execution_count": 68,
   "metadata": {
    "ExecuteTime": {
     "end_time": "2019-11-17T17:27:10.485791Z",
     "start_time": "2019-11-17T17:27:10.477139Z"
    }
   },
   "outputs": [
    {
     "data": {
      "text/plain": [
       "{'hidden_size': 100, 'num_layers': 3, 'learning_rate': 0.0003}"
      ]
     },
     "execution_count": 68,
     "metadata": {},
     "output_type": "execute_result"
    }
   ],
   "source": [
    "class Model3:\n",
    "    def __init__(self, **kwargs):\n",
    "        self.__dict__ = kwargs\n",
    "\n",
    "model3 = Model3(hidden_size=100, num_layers=3, learning_rate=3e-4)\n",
    "model3.__dict__"
   ]
  },
  {
   "cell_type": "markdown",
   "metadata": {},
   "source": [
    "# Wildcard import\n",
    "\n",
    "In the source script, we add `__all__` to specify the functions that can be exported."
   ]
  }
 ],
 "metadata": {
  "kernelspec": {
   "display_name": "Python 3",
   "language": "python",
   "name": "python3"
  },
  "language_info": {
   "codemirror_mode": {
    "name": "ipython",
    "version": 3
   },
   "file_extension": ".py",
   "mimetype": "text/x-python",
   "name": "python",
   "nbconvert_exporter": "python",
   "pygments_lexer": "ipython3",
   "version": "3.7.3"
  },
  "toc": {
   "base_numbering": 1,
   "nav_menu": {},
   "number_sections": true,
   "sideBar": true,
   "skip_h1_title": false,
   "title_cell": "Table of Contents",
   "title_sidebar": "Contents",
   "toc_cell": false,
   "toc_position": {},
   "toc_section_display": true,
   "toc_window_display": true
  }
 },
 "nbformat": 4,
 "nbformat_minor": 2
}
